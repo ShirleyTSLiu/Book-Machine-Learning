{
 "cells": [
  {
   "cell_type": "markdown",
   "metadata": {},
   "source": [
    "# 學習資料的確認"
   ]
  },
  {
   "cell_type": "code",
   "execution_count": 57,
   "metadata": {},
   "outputs": [],
   "source": [
    "import numpy as np\n",
    "import matplotlib.pyplot as plt"
   ]
  },
  {
   "cell_type": "markdown",
   "metadata": {},
   "source": [
    "輸入學習資料"
   ]
  },
  {
   "cell_type": "code",
   "execution_count": 58,
   "metadata": {},
   "outputs": [],
   "source": [
    "train = np.loadtxt(open('/Users/shiliu/documents/click.csv'), delimiter = ',', skiprows = 1)\n",
    "train_x = train[:,0]\n",
    "train_y = train[:,1]"
   ]
  },
  {
   "cell_type": "markdown",
   "metadata": {},
   "source": [
    "圖形"
   ]
  },
  {
   "cell_type": "code",
   "execution_count": 59,
   "metadata": {},
   "outputs": [
    {
     "data": {
      "image/png": "[encoded data removed]",
      "text/plain": [
       "<matplotlib.figure.Figure at 0x1178a4860>"
      ]
     },
     "metadata": {},
     "output_type": "display_data"
    }
   ],
   "source": [
    "plt.plot(train_x, train_y, 'o')\n",
    "plt.show()"
   ]
  },
  {
   "cell_type": "markdown",
   "metadata": {},
   "source": [
    "# 以一次函數來編寫程式"
   ]
  },
  {
   "cell_type": "markdown",
   "metadata": {},
   "source": [
    "初始化參數"
   ]
  },
  {
   "cell_type": "code",
   "execution_count": 60,
   "metadata": {},
   "outputs": [],
   "source": [
    "theta0 = np.random.rand()\n",
    "theta1 = np.random.rand()"
   ]
  },
  {
   "cell_type": "markdown",
   "metadata": {},
   "source": [
    "預測函數"
   ]
  },
  {
   "cell_type": "code",
   "execution_count": 61,
   "metadata": {},
   "outputs": [],
   "source": [
    "def f(x):\n",
    "    return theta0 + theta1 * x"
   ]
  },
  {
   "cell_type": "markdown",
   "metadata": {},
   "source": [
    "目標函數"
   ]
  },
  {
   "cell_type": "code",
   "execution_count": 70,
   "metadata": {},
   "outputs": [],
   "source": [
    "def E(x, y):\n",
    "    return 0.5 * np.sum((y - f(x)) ** 2)"
   ]
  },
  {
   "cell_type": "markdown",
   "metadata": {},
   "source": [
    "標準化 / z-score正規化\n",
    "\n",
    "z = (x - mu) / sigma \n",
    "\n",
    "#經由標準化，使參數更快收斂"
   ]
  },
  {
   "cell_type": "code",
   "execution_count": 72,
   "metadata": {},
   "outputs": [],
   "source": [
    "mu = train_x.mean()\n",
    "sigma = train_x.std()\n",
    "def standardize(x):\n",
    "    return (x - mu) / sigma\n",
    "\n",
    "train_z = standardize(train_x)"
   ]
  },
  {
   "cell_type": "markdown",
   "metadata": {},
   "source": [
    "畫圖"
   ]
  },
  {
   "cell_type": "code",
   "execution_count": 64,
   "metadata": {},
   "outputs": [
    {
     "data": {
      "image/png": "[encoded data removed]",
      "text/plain": [
       "<matplotlib.figure.Figure at 0x1177edcc0>"
      ]
     },
     "metadata": {},
     "output_type": "display_data"
    }
   ],
   "source": [
    "plt.plot(train_z, train_y, 'o')\n",
    "plt.show()"
   ]
  },
  {
   "cell_type": "markdown",
   "metadata": {},
   "source": [
    "# 撰寫參數更新式"
   ]
  },
  {
   "cell_type": "markdown",
   "metadata": {},
   "source": [
    "學習率"
   ]
  },
  {
   "cell_type": "code",
   "execution_count": 65,
   "metadata": {},
   "outputs": [],
   "source": [
    "ETA = 1e-3"
   ]
  },
  {
   "cell_type": "markdown",
   "metadata": {},
   "source": [
    "誤差的差分"
   ]
  },
  {
   "cell_type": "code",
   "execution_count": 66,
   "metadata": {},
   "outputs": [],
   "source": [
    "diff = 1"
   ]
  },
  {
   "cell_type": "markdown",
   "metadata": {},
   "source": [
    "更新次數"
   ]
  },
  {
   "cell_type": "code",
   "execution_count": 67,
   "metadata": {},
   "outputs": [],
   "source": [
    "count = 0"
   ]
  },
  {
   "cell_type": "markdown",
   "metadata": {},
   "source": [
    "重複學習\n",
    "#重複參數的更新直到誤差的差分變成0.01以下為止"
   ]
  },
  {
   "cell_type": "code",
   "execution_count": 68,
   "metadata": {},
   "outputs": [
    {
     "name": "stdout",
     "output_type": "stream",
     "text": [
      "1次: theta0 = 8.832, theta1 = 2.562, 差分 = 76253.2528\n",
      "2次: theta0 = 17.238, theta1 = 4.380, 差分 = 73233.6239\n",
      "3次: theta0 = 25.476, theta1 = 6.162, 差分 = 70333.5724\n",
      "4次: theta0 = 33.550, theta1 = 7.908, 差分 = 67548.3630\n",
      "5次: theta0 = 41.462, theta1 = 9.620, 差分 = 64873.4478\n",
      "6次: theta0 = 49.216, theta1 = 11.297, 差分 = 62304.4593\n",
      "7次: theta0 = 56.814, theta1 = 12.940, 差分 = 59837.2027\n",
      "8次: theta0 = 64.261, theta1 = 14.551, 差分 = 57467.6494\n",
      "9次: theta0 = 71.559, theta1 = 16.130, 差分 = 55191.9305\n",
      "10次: theta0 = 78.711, theta1 = 17.677, 差分 = 53006.3301\n",
      "11次: theta0 = 85.719, theta1 = 19.193, 差分 = 50907.2794\n",
      "12次: theta0 = 92.588, theta1 = 20.678, 差分 = 48891.3511\n",
      "13次: theta0 = 99.319, theta1 = 22.134, 差分 = 46955.2536\n",
      "14次: theta0 = 105.916, theta1 = 23.561, 差分 = 45095.8256\n",
      "15次: theta0 = 112.381, theta1 = 24.960, 差分 = 43310.0309\n",
      "16次: theta0 = 118.716, theta1 = 26.330, 差分 = 41594.9537\n",
      "17次: theta0 = 124.925, theta1 = 27.673, 差分 = 39947.7935\n",
      "18次: theta0 = 131.009, theta1 = 28.989, 差分 = 38365.8609\n",
      "19次: theta0 = 136.972, theta1 = 30.279, 差分 = 36846.5728\n",
      "20次: theta0 = 142.815, theta1 = 31.543, 差分 = 35387.4485\n",
      "21次: theta0 = 148.542, theta1 = 32.782, 差分 = 33986.1056\n",
      "22次: theta0 = 154.154, theta1 = 33.996, 差分 = 32640.2558\n",
      "23次: theta0 = 159.654, theta1 = 35.185, 差分 = 31347.7016\n",
      "24次: theta0 = 165.044, theta1 = 36.351, 差分 = 30106.3327\n",
      "25次: theta0 = 170.326, theta1 = 37.494, 差分 = 28914.1219\n",
      "26次: theta0 = 175.503, theta1 = 38.613, 差分 = 27769.1227\n",
      "27次: theta0 = 180.576, theta1 = 39.711, 差分 = 26669.4654\n",
      "28次: theta0 = 185.547, theta1 = 40.786, 差分 = 25613.3546\n",
      "29次: theta0 = 190.419, theta1 = 41.840, 差分 = 24599.0657\n",
      "30次: theta0 = 195.194, theta1 = 42.873, 差分 = 23624.9427\n",
      "31次: theta0 = 199.873, theta1 = 43.885, 差分 = 22689.3950\n",
      "32次: theta0 = 204.459, theta1 = 44.877, 差分 = 21790.8950\n",
      "33次: theta0 = 208.952, theta1 = 45.849, 差分 = 20927.9755\n",
      "34次: theta0 = 213.356, theta1 = 46.801, 差分 = 20099.2277\n",
      "35次: theta0 = 217.672, theta1 = 47.735, 差分 = 19303.2983\n",
      "36次: theta0 = 221.902, theta1 = 48.650, 差分 = 18538.8877\n",
      "37次: theta0 = 226.047, theta1 = 49.546, 差分 = 17804.7477\n",
      "38次: theta0 = 230.109, theta1 = 50.425, 差分 = 17099.6797\n",
      "39次: theta0 = 234.090, theta1 = 51.286, 差分 = 16422.5324\n",
      "40次: theta0 = 237.991, theta1 = 52.130, 差分 = 15772.2001\n",
      "41次: theta0 = 241.814, theta1 = 52.957, 差分 = 15147.6210\n",
      "42次: theta0 = 245.561, theta1 = 53.767, 差分 = 14547.7752\n",
      "43次: theta0 = 249.232, theta1 = 54.562, 差分 = 13971.6833\n",
      "44次: theta0 = 252.831, theta1 = 55.340, 差分 = 13418.4046\n",
      "45次: theta0 = 256.357, theta1 = 56.103, 差分 = 12887.0358\n",
      "46次: theta0 = 259.813, theta1 = 56.850, 差分 = 12376.7092\n",
      "47次: theta0 = 263.200, theta1 = 57.583, 差分 = 11886.5915\n",
      "48次: theta0 = 266.519, theta1 = 58.301, 差分 = 11415.8825\n",
      "49次: theta0 = 269.771, theta1 = 59.004, 差分 = 10963.8135\n",
      "50次: theta0 = 272.959, theta1 = 59.694, 差分 = 10529.6465\n",
      "51次: theta0 = 276.083, theta1 = 60.369, 差分 = 10112.6725\n",
      "52次: theta0 = 279.144, theta1 = 61.032, 差分 = 9712.2107\n",
      "53次: theta0 = 282.144, theta1 = 61.681, 差分 = 9327.6071\n",
      "54次: theta0 = 285.084, theta1 = 62.317, 差分 = 8958.2339\n",
      "55次: theta0 = 287.966, theta1 = 62.940, 差分 = 8603.4878\n",
      "56次: theta0 = 290.789, theta1 = 63.551, 差分 = 8262.7897\n",
      "57次: theta0 = 293.557, theta1 = 64.149, 差分 = 7935.5832\n",
      "58次: theta0 = 296.268, theta1 = 64.736, 差分 = 7621.3341\n",
      "59次: theta0 = 298.926, theta1 = 65.311, 差分 = 7319.5293\n",
      "60次: theta0 = 301.531, theta1 = 65.874, 差分 = 7029.6760\n",
      "61次: theta0 = 304.083, theta1 = 66.426, 差分 = 6751.3008\n",
      "62次: theta0 = 306.584, theta1 = 66.967, 差分 = 6483.9493\n",
      "63次: theta0 = 309.036, theta1 = 67.497, 差分 = 6227.1849\n",
      "64次: theta0 = 311.438, theta1 = 68.017, 差分 = 5980.5884\n",
      "65次: theta0 = 313.792, theta1 = 68.526, 差分 = 5743.7571\n",
      "66次: theta0 = 316.099, theta1 = 69.025, 差分 = 5516.3043\n",
      "67次: theta0 = 318.360, theta1 = 69.514, 差分 = 5297.8586\n",
      "68次: theta0 = 320.576, theta1 = 69.994, 差分 = 5088.0634\n",
      "69次: theta0 = 322.748, theta1 = 70.463, 差分 = 4886.5761\n",
      "70次: theta0 = 324.876, theta1 = 70.924, 差分 = 4693.0677\n",
      "71次: theta0 = 326.961, theta1 = 71.375, 差分 = 4507.2222\n",
      "72次: theta0 = 329.005, theta1 = 71.817, 差分 = 4328.7362\n",
      "73次: theta0 = 331.008, theta1 = 72.250, 差分 = 4157.3183\n",
      "74次: theta0 = 332.971, theta1 = 72.675, 差分 = 3992.6885\n",
      "75次: theta0 = 334.894, theta1 = 73.091, 差分 = 3834.5780\n",
      "76次: theta0 = 336.779, theta1 = 73.498, 差分 = 3682.7287\n",
      "77次: theta0 = 338.627, theta1 = 73.898, 差分 = 3536.8927\n",
      "78次: theta0 = 340.437, theta1 = 74.290, 差分 = 3396.8317\n",
      "79次: theta0 = 342.211, theta1 = 74.673, 差分 = 3262.3172\n",
      "80次: theta0 = 343.950, theta1 = 75.050, 差分 = 3133.1294\n",
      "81次: theta0 = 345.654, theta1 = 75.418, 差分 = 3009.0575\n",
      "82次: theta0 = 347.324, theta1 = 75.779, 差分 = 2889.8988\n",
      "83次: theta0 = 348.961, theta1 = 76.133, 差分 = 2775.4588\n",
      "84次: theta0 = 350.564, theta1 = 76.480, 差分 = 2665.5506\n",
      "85次: theta0 = 352.136, theta1 = 76.820, 差分 = 2559.9948\n",
      "86次: theta0 = 353.676, theta1 = 77.153, 差分 = 2458.6190\n",
      "87次: theta0 = 355.186, theta1 = 77.480, 差分 = 2361.2577\n",
      "88次: theta0 = 356.665, theta1 = 77.800, 差分 = 2267.7519\n",
      "89次: theta0 = 358.115, theta1 = 78.113, 差分 = 2177.9490\n",
      "90次: theta0 = 359.536, theta1 = 78.421, 差分 = 2091.7022\n",
      "91次: theta0 = 360.928, theta1 = 78.722, 差分 = 2008.8708\n",
      "92次: theta0 = 362.292, theta1 = 79.017, 差分 = 1929.3195\n",
      "93次: theta0 = 363.629, theta1 = 79.306, 差分 = 1852.9184\n",
      "94次: theta0 = 364.940, theta1 = 79.590, 差分 = 1779.5429\n",
      "95次: theta0 = 366.224, theta1 = 79.868, 差分 = 1709.0730\n",
      "96次: theta0 = 367.483, theta1 = 80.140, 差分 = 1641.3937\n",
      "97次: theta0 = 368.716, theta1 = 80.407, 差分 = 1576.3945\n",
      "98次: theta0 = 369.925, theta1 = 80.668, 差分 = 1513.9693\n",
      "99次: theta0 = 371.109, theta1 = 80.924, 差分 = 1454.0161\n",
      "100次: theta0 = 372.270, theta1 = 81.175, 差分 = 1396.4370\n",
      "101次: theta0 = 373.408, theta1 = 81.421, 差分 = 1341.1381\n",
      "102次: theta0 = 374.522, theta1 = 81.663, 差分 = 1288.0291\n",
      "103次: theta0 = 375.615, theta1 = 81.899, 差分 = 1237.0231\n",
      "104次: theta0 = 376.686, theta1 = 82.130, 差分 = 1188.0370\n",
      "105次: theta0 = 377.735, theta1 = 82.357, 差分 = 1140.9907\n",
      "106次: theta0 = 378.763, theta1 = 82.580, 差分 = 1095.8075\n",
      "107次: theta0 = 379.771, theta1 = 82.798, 差分 = 1052.4135\n",
      "108次: theta0 = 380.759, theta1 = 83.011, 差分 = 1010.7380\n",
      "109次: theta0 = 381.726, theta1 = 83.221, 差分 = 970.7127\n",
      "110次: theta0 = 382.675, theta1 = 83.426, 差分 = 932.2725\n",
      "111次: theta0 = 383.604, theta1 = 83.627, 差分 = 895.3545\n",
      "112次: theta0 = 384.515, theta1 = 83.824, 差分 = 859.8985\n",
      "113次: theta0 = 385.408, theta1 = 84.017, 差分 = 825.8465\n",
      "114次: theta0 = 386.283, theta1 = 84.206, 差分 = 793.1430\n",
      "115次: theta0 = 387.140, theta1 = 84.392, 差分 = 761.7345\n",
      "116次: theta0 = 387.980, theta1 = 84.574, 差分 = 731.5698\n",
      "117次: theta0 = 388.804, theta1 = 84.752, 差分 = 702.5997\n",
      "118次: theta0 = 389.611, theta1 = 84.926, 差分 = 674.7767\n",
      "119次: theta0 = 390.401, theta1 = 85.097, 差分 = 648.0556\n",
      "120次: theta0 = 391.176, theta1 = 85.265, 差分 = 622.3926\n",
      "121次: theta0 = 391.936, theta1 = 85.429, 差分 = 597.7458\n",
      "122次: theta0 = 392.680, theta1 = 85.590, 差分 = 574.0751\n",
      "123次: theta0 = 393.410, theta1 = 85.748, 差分 = 551.3417\n",
      "124次: theta0 = 394.124, theta1 = 85.903, 差分 = 529.5086\n",
      "125次: theta0 = 394.825, theta1 = 86.054, 差分 = 508.5400\n",
      "126次: theta0 = 395.511, theta1 = 86.203, 差分 = 488.4018\n",
      "127次: theta0 = 396.184, theta1 = 86.348, 差分 = 469.0611\n",
      "128次: theta0 = 396.844, theta1 = 86.491, 差分 = 450.4863\n",
      "129次: theta0 = 397.490, theta1 = 86.630, 差分 = 432.6471\n",
      "130次: theta0 = 398.123, theta1 = 86.767, 差分 = 415.5142\n",
      "131次: theta0 = 398.743, theta1 = 86.902, 差分 = 399.0599\n",
      "132次: theta0 = 399.352, theta1 = 87.033, 差分 = 383.2571\n",
      "133次: theta0 = 399.947, theta1 = 87.162, 差分 = 368.0801\n",
      "134次: theta0 = 400.532, theta1 = 87.288, 差分 = 353.5041\n",
      "135次: theta0 = 401.104, theta1 = 87.412, 差分 = 339.5054\n",
      "136次: theta0 = 401.665, theta1 = 87.534, 差分 = 326.0610\n",
      "137次: theta0 = 402.215, theta1 = 87.652, 差分 = 313.1490\n",
      "138次: theta0 = 402.753, theta1 = 87.769, 差分 = 300.7483\n",
      "139次: theta0 = 403.281, theta1 = 87.883, 差分 = 288.8386\n",
      "140次: theta0 = 403.799, theta1 = 87.995, 差分 = 277.4006\n",
      "141次: theta0 = 404.306, theta1 = 88.105, 差分 = 266.4155\n",
      "142次: theta0 = 404.802, theta1 = 88.212, 差分 = 255.8655\n",
      "143次: theta0 = 405.289, theta1 = 88.318, 差分 = 245.7332\n",
      "144次: theta0 = 405.767, theta1 = 88.421, 差分 = 236.0022\n",
      "145次: theta0 = 406.234, theta1 = 88.522, 差分 = 226.6565\n",
      "146次: theta0 = 406.693, theta1 = 88.621, 差分 = 217.6809\n",
      "147次: theta0 = 407.142, theta1 = 88.718, 差分 = 209.0607\n",
      "148次: theta0 = 407.582, theta1 = 88.813, 差分 = 200.7819\n",
      "149次: theta0 = 408.013, theta1 = 88.907, 差分 = 192.8310\n",
      "150次: theta0 = 408.436, theta1 = 88.998, 差分 = 185.1949\n",
      "151次: theta0 = 408.850, theta1 = 89.088, 差分 = 177.8611\n",
      "152次: theta0 = 409.256, theta1 = 89.176, 差分 = 170.8178\n",
      "153次: theta0 = 409.654, theta1 = 89.262, 差分 = 164.0535\n",
      "154次: theta0 = 410.044, theta1 = 89.346, 差分 = 157.5569\n",
      "155次: theta0 = 410.426, theta1 = 89.429, 差分 = 151.3177\n",
      "156次: theta0 = 410.801, theta1 = 89.510, 差分 = 145.3255\n",
      "157次: theta0 = 411.168, theta1 = 89.589, 差分 = 139.5706\n",
      "158次: theta0 = 411.527, theta1 = 89.667, 差分 = 134.0436\n",
      "159次: theta0 = 411.880, theta1 = 89.743, 差分 = 128.7355\n",
      "160次: theta0 = 412.225, theta1 = 89.818, 差分 = 123.6376\n",
      "161次: theta0 = 412.564, theta1 = 89.891, 差分 = 118.7415\n",
      "162次: theta0 = 412.895, theta1 = 89.963, 差分 = 114.0394\n",
      "163次: theta0 = 413.220, theta1 = 90.033, 差分 = 109.5234\n",
      "164次: theta0 = 413.539, theta1 = 90.102, 差分 = 105.1863\n",
      "165次: theta0 = 413.851, theta1 = 90.170, 差分 = 101.0209\n",
      "166次: theta0 = 414.157, theta1 = 90.236, 差分 = 97.0205\n",
      "167次: theta0 = 414.457, theta1 = 90.301, 差分 = 93.1785\n",
      "168次: theta0 = 414.751, theta1 = 90.364, 差分 = 89.4886\n",
      "169次: theta0 = 415.039, theta1 = 90.426, 差分 = 85.9448\n",
      "170次: theta0 = 415.321, theta1 = 90.488, 差分 = 82.5414\n",
      "171次: theta0 = 415.598, theta1 = 90.547, 差分 = 79.2728\n",
      "172次: theta0 = 415.869, theta1 = 90.606, 差分 = 76.1336\n",
      "173次: theta0 = 416.134, theta1 = 90.663, 差分 = 73.1187\n",
      "174次: theta0 = 416.395, theta1 = 90.720, 差分 = 70.2232\n",
      "175次: theta0 = 416.650, theta1 = 90.775, 差分 = 67.4424\n",
      "176次: theta0 = 416.900, theta1 = 90.829, 差分 = 64.7716\n",
      "177次: theta0 = 417.145, theta1 = 90.882, 差分 = 62.2067\n",
      "178次: theta0 = 417.385, theta1 = 90.934, 差分 = 59.7433\n",
      "179次: theta0 = 417.620, theta1 = 90.985, 差分 = 57.3775\n",
      "180次: theta0 = 417.851, theta1 = 91.035, 差分 = 55.1053\n",
      "181次: theta0 = 418.077, theta1 = 91.084, 差分 = 52.9231\n",
      "182次: theta0 = 418.298, theta1 = 91.131, 差分 = 50.8274\n",
      "183次: theta0 = 418.515, theta1 = 91.178, 差分 = 48.8146\n",
      "184次: theta0 = 418.728, theta1 = 91.224, 差分 = 46.8816\n",
      "185次: theta0 = 418.936, theta1 = 91.270, 差分 = 45.0251\n",
      "186次: theta0 = 419.141, theta1 = 91.314, 差分 = 43.2421\n",
      "187次: theta0 = 419.341, theta1 = 91.357, 差分 = 41.5297\n",
      "188次: theta0 = 419.537, theta1 = 91.399, 差分 = 39.8851\n",
      "189次: theta0 = 419.729, theta1 = 91.441, 差分 = 38.3056\n",
      "190次: theta0 = 419.918, theta1 = 91.482, 差分 = 36.7887\n",
      "191次: theta0 = 420.102, theta1 = 91.522, 差分 = 35.3319\n",
      "192次: theta0 = 420.283, theta1 = 91.561, 差分 = 33.9328\n",
      "193次: theta0 = 420.461, theta1 = 91.599, 差分 = 32.5890\n",
      "194次: theta0 = 420.634, theta1 = 91.637, 差分 = 31.2985\n",
      "195次: theta0 = 420.805, theta1 = 91.674, 差分 = 30.0591\n",
      "196次: theta0 = 420.972, theta1 = 91.710, 差分 = 28.8687\n",
      "197次: theta0 = 421.135, theta1 = 91.745, 差分 = 27.7255\n",
      "198次: theta0 = 421.296, theta1 = 91.780, 差分 = 26.6276\n",
      "199次: theta0 = 421.453, theta1 = 91.814, 差分 = 25.5732\n",
      "200次: theta0 = 421.607, theta1 = 91.847, 差分 = 24.5605\n",
      "201次: theta0 = 421.757, theta1 = 91.880, 差分 = 23.5879\n",
      "202次: theta0 = 421.905, theta1 = 91.912, 差分 = 22.6538\n",
      "203次: theta0 = 422.050, theta1 = 91.943, 差分 = 21.7567\n",
      "204次: theta0 = 422.192, theta1 = 91.974, 差分 = 20.8951\n",
      "205次: theta0 = 422.331, theta1 = 92.004, 差分 = 20.0677\n",
      "206次: theta0 = 422.468, theta1 = 92.033, 差分 = 19.2730\n",
      "207次: theta0 = 422.601, theta1 = 92.062, 差分 = 18.5098\n",
      "208次: theta0 = 422.732, theta1 = 92.091, 差分 = 17.7768\n",
      "209次: theta0 = 422.861, theta1 = 92.118, 差分 = 17.0728\n",
      "210次: theta0 = 422.986, theta1 = 92.146, 差分 = 16.3968\n",
      "211次: theta0 = 423.110, theta1 = 92.172, 差分 = 15.7474\n",
      "212次: theta0 = 423.231, theta1 = 92.198, 差分 = 15.1238\n",
      "213次: theta0 = 423.349, theta1 = 92.224, 差分 = 14.5249\n",
      "214次: theta0 = 423.465, theta1 = 92.249, 差分 = 13.9498\n",
      "215次: theta0 = 423.579, theta1 = 92.274, 差分 = 13.3973\n",
      "216次: theta0 = 423.690, theta1 = 92.298, 差分 = 12.8668\n",
      "217次: theta0 = 423.799, theta1 = 92.321, 差分 = 12.3573\n",
      "218次: theta0 = 423.906, theta1 = 92.345, 差分 = 11.8679\n",
      "219次: theta0 = 424.011, theta1 = 92.367, 差分 = 11.3980\n",
      "220次: theta0 = 424.114, theta1 = 92.389, 差分 = 10.9466\n",
      "221次: theta0 = 424.215, theta1 = 92.411, 差分 = 10.5131\n",
      "222次: theta0 = 424.313, theta1 = 92.433, 差分 = 10.0968\n",
      "223次: theta0 = 424.410, theta1 = 92.454, 差分 = 9.6970\n",
      "224次: theta0 = 424.505, theta1 = 92.474, 差分 = 9.3130\n",
      "225次: theta0 = 424.598, theta1 = 92.494, 差分 = 8.9442\n",
      "226次: theta0 = 424.689, theta1 = 92.514, 差分 = 8.5900\n",
      "227次: theta0 = 424.778, theta1 = 92.533, 差分 = 8.2498\n",
      "228次: theta0 = 424.866, theta1 = 92.552, 差分 = 7.9231\n",
      "229次: theta0 = 424.951, theta1 = 92.571, 差分 = 7.6094\n",
      "230次: theta0 = 425.035, theta1 = 92.589, 差分 = 7.3080\n",
      "231次: theta0 = 425.117, theta1 = 92.607, 差分 = 7.0186\n",
      "232次: theta0 = 425.198, theta1 = 92.624, 差分 = 6.7407\n",
      "233次: theta0 = 425.277, theta1 = 92.641, 差分 = 6.4738\n",
      "234次: theta0 = 425.355, theta1 = 92.658, 差分 = 6.2174\n",
      "235次: theta0 = 425.431, theta1 = 92.674, 差分 = 5.9712\n",
      "236次: theta0 = 425.505, theta1 = 92.690, 差分 = 5.7347\n",
      "237次: theta0 = 425.578, theta1 = 92.706, 差分 = 5.5076\n",
      "238次: theta0 = 425.649, theta1 = 92.722, 差分 = 5.2895\n",
      "239次: theta0 = 425.719, theta1 = 92.737, 差分 = 5.0801\n",
      "240次: theta0 = 425.788, theta1 = 92.752, 差分 = 4.8789\n",
      "241次: theta0 = 425.855, theta1 = 92.766, 差分 = 4.6857\n",
      "242次: theta0 = 425.921, theta1 = 92.780, 差分 = 4.5001\n",
      "243次: theta0 = 425.986, theta1 = 92.794, 差分 = 4.3219\n",
      "244次: theta0 = 426.049, theta1 = 92.808, 差分 = 4.1508\n",
      "245次: theta0 = 426.111, theta1 = 92.821, 差分 = 3.9864\n",
      "246次: theta0 = 426.172, theta1 = 92.835, 差分 = 3.8286\n",
      "247次: theta0 = 426.231, theta1 = 92.847, 差分 = 3.6769\n",
      "248次: theta0 = 426.290, theta1 = 92.860, 差分 = 3.5313\n",
      "249次: theta0 = 426.347, theta1 = 92.872, 差分 = 3.3915\n",
      "250次: theta0 = 426.403, theta1 = 92.885, 差分 = 3.2572\n",
      "251次: theta0 = 426.458, theta1 = 92.896, 差分 = 3.1282\n",
      "252次: theta0 = 426.512, theta1 = 92.908, 差分 = 3.0043\n",
      "253次: theta0 = 426.564, theta1 = 92.920, 差分 = 2.8854\n",
      "254次: theta0 = 426.616, theta1 = 92.931, 差分 = 2.7711\n",
      "255次: theta0 = 426.667, theta1 = 92.942, 差分 = 2.6614\n",
      "256次: theta0 = 426.717, theta1 = 92.952, 差分 = 2.5560\n",
      "257次: theta0 = 426.765, theta1 = 92.963, 差分 = 2.4548\n",
      "258次: theta0 = 426.813, theta1 = 92.973, 差分 = 2.3576\n",
      "259次: theta0 = 426.860, theta1 = 92.983, 差分 = 2.2642\n",
      "260次: theta0 = 426.905, theta1 = 92.993, 差分 = 2.1745\n",
      "261次: theta0 = 426.950, theta1 = 93.003, 差分 = 2.0884\n",
      "262次: theta0 = 426.994, theta1 = 93.012, 差分 = 2.0057\n",
      "263次: theta0 = 427.037, theta1 = 93.022, 差分 = 1.9263\n",
      "264次: theta0 = 427.080, theta1 = 93.031, 差分 = 1.8500\n",
      "265次: theta0 = 427.121, theta1 = 93.040, 差分 = 1.7768\n",
      "266次: theta0 = 427.162, theta1 = 93.049, 差分 = 1.7064\n",
      "267次: theta0 = 427.201, theta1 = 93.057, 差分 = 1.6388\n",
      "268次: theta0 = 427.240, theta1 = 93.066, 差分 = 1.5739\n",
      "269次: theta0 = 427.279, theta1 = 93.074, 差分 = 1.5116\n",
      "270次: theta0 = 427.316, theta1 = 93.082, 差分 = 1.4517\n",
      "271次: theta0 = 427.353, theta1 = 93.090, 差分 = 1.3942\n",
      "272次: theta0 = 427.389, theta1 = 93.098, 差分 = 1.3390\n",
      "273次: theta0 = 427.424, theta1 = 93.105, 差分 = 1.2860\n",
      "274次: theta0 = 427.458, theta1 = 93.113, 差分 = 1.2351\n",
      "275次: theta0 = 427.492, theta1 = 93.120, 差分 = 1.1862\n",
      "276次: theta0 = 427.525, theta1 = 93.127, 差分 = 1.1392\n",
      "277次: theta0 = 427.558, theta1 = 93.134, 差分 = 1.0941\n",
      "278次: theta0 = 427.590, theta1 = 93.141, 差分 = 1.0508\n",
      "279次: theta0 = 427.621, theta1 = 93.148, 差分 = 1.0092\n",
      "280次: theta0 = 427.652, theta1 = 93.155, 差分 = 0.9692\n",
      "281次: theta0 = 427.681, theta1 = 93.161, 差分 = 0.9308\n",
      "282次: theta0 = 427.711, theta1 = 93.167, 差分 = 0.8939\n",
      "283次: theta0 = 427.740, theta1 = 93.174, 差分 = 0.8585\n",
      "284次: theta0 = 427.768, theta1 = 93.180, 差分 = 0.8246\n",
      "285次: theta0 = 427.795, theta1 = 93.186, 差分 = 0.7919\n",
      "286次: theta0 = 427.823, theta1 = 93.192, 差分 = 0.7605\n",
      "287次: theta0 = 427.849, theta1 = 93.197, 差分 = 0.7304\n",
      "288次: theta0 = 427.875, theta1 = 93.203, 差分 = 0.7015\n",
      "289次: theta0 = 427.901, theta1 = 93.209, 差分 = 0.6737\n",
      "290次: theta0 = 427.926, theta1 = 93.214, 差分 = 0.6470\n",
      "291次: theta0 = 427.950, theta1 = 93.219, 差分 = 0.6214\n",
      "292次: theta0 = 427.974, theta1 = 93.224, 差分 = 0.5968\n",
      "293次: theta0 = 427.998, theta1 = 93.230, 差分 = 0.5732\n",
      "294次: theta0 = 428.021, theta1 = 93.234, 差分 = 0.5505\n",
      "295次: theta0 = 428.043, theta1 = 93.239, 差分 = 0.5287\n",
      "296次: theta0 = 428.065, theta1 = 93.244, 差分 = 0.5077\n",
      "297次: theta0 = 428.087, theta1 = 93.249, 差分 = 0.4876\n",
      "298次: theta0 = 428.108, theta1 = 93.253, 差分 = 0.4683\n",
      "299次: theta0 = 428.129, theta1 = 93.258, 差分 = 0.4498\n",
      "300次: theta0 = 428.150, theta1 = 93.262, 差分 = 0.4320\n",
      "301次: theta0 = 428.170, theta1 = 93.267, 差分 = 0.4149\n",
      "302次: theta0 = 428.189, theta1 = 93.271, 差分 = 0.3984\n",
      "303次: theta0 = 428.208, theta1 = 93.275, 差分 = 0.3827\n",
      "304次: theta0 = 428.227, theta1 = 93.279, 差分 = 0.3675\n",
      "305次: theta0 = 428.246, theta1 = 93.283, 差分 = 0.3529\n",
      "306次: theta0 = 428.264, theta1 = 93.287, 差分 = 0.3390\n",
      "307次: theta0 = 428.282, theta1 = 93.291, 差分 = 0.3255\n",
      "308次: theta0 = 428.299, theta1 = 93.295, 差分 = 0.3127\n",
      "309次: theta0 = 428.316, theta1 = 93.298, 差分 = 0.3003\n",
      "310次: theta0 = 428.333, theta1 = 93.302, 差分 = 0.2884\n",
      "311次: theta0 = 428.349, theta1 = 93.305, 差分 = 0.2770\n",
      "312次: theta0 = 428.365, theta1 = 93.309, 差分 = 0.2660\n",
      "313次: theta0 = 428.381, theta1 = 93.312, 差分 = 0.2555\n",
      "314次: theta0 = 428.396, theta1 = 93.316, 差分 = 0.2453\n",
      "315次: theta0 = 428.411, theta1 = 93.319, 差分 = 0.2356\n",
      "316次: theta0 = 428.426, theta1 = 93.322, 差分 = 0.2263\n",
      "317次: theta0 = 428.440, theta1 = 93.325, 差分 = 0.2173\n",
      "318次: theta0 = 428.455, theta1 = 93.328, 差分 = 0.2087\n",
      "319次: theta0 = 428.468, theta1 = 93.331, 差分 = 0.2005\n",
      "320次: theta0 = 428.482, theta1 = 93.334, 差分 = 0.1925\n",
      "321次: theta0 = 428.495, theta1 = 93.337, 差分 = 0.1849\n",
      "322次: theta0 = 428.509, theta1 = 93.340, 差分 = 0.1776\n",
      "323次: theta0 = 428.521, theta1 = 93.343, 差分 = 0.1705\n",
      "324次: theta0 = 428.534, theta1 = 93.346, 差分 = 0.1638\n",
      "325次: theta0 = 428.546, theta1 = 93.348, 差分 = 0.1573\n",
      "326次: theta0 = 428.558, theta1 = 93.351, 差分 = 0.1511\n",
      "327次: theta0 = 428.570, theta1 = 93.353, 差分 = 0.1451\n",
      "328次: theta0 = 428.582, theta1 = 93.356, 差分 = 0.1394\n",
      "329次: theta0 = 428.593, theta1 = 93.358, 差分 = 0.1338\n",
      "330次: theta0 = 428.604, theta1 = 93.361, 差分 = 0.1285\n",
      "331次: theta0 = 428.615, theta1 = 93.363, 差分 = 0.1234\n",
      "332次: theta0 = 428.626, theta1 = 93.365, 差分 = 0.1186\n",
      "333次: theta0 = 428.636, theta1 = 93.368, 差分 = 0.1139\n",
      "334次: theta0 = 428.647, theta1 = 93.370, 差分 = 0.1094\n",
      "335次: theta0 = 428.657, theta1 = 93.372, 差分 = 0.1050\n",
      "336次: theta0 = 428.667, theta1 = 93.374, 差分 = 0.1009\n",
      "337次: theta0 = 428.676, theta1 = 93.376, 差分 = 0.0969\n",
      "338次: theta0 = 428.686, theta1 = 93.378, 差分 = 0.0930\n",
      "339次: theta0 = 428.695, theta1 = 93.380, 差分 = 0.0893\n",
      "340次: theta0 = 428.704, theta1 = 93.382, 差分 = 0.0858\n",
      "341次: theta0 = 428.713, theta1 = 93.384, 差分 = 0.0824\n",
      "342次: theta0 = 428.722, theta1 = 93.386, 差分 = 0.0791\n",
      "343次: theta0 = 428.730, theta1 = 93.388, 差分 = 0.0760\n",
      "344次: theta0 = 428.739, theta1 = 93.390, 差分 = 0.0730\n",
      "345次: theta0 = 428.747, theta1 = 93.392, 差分 = 0.0701\n",
      "346次: theta0 = 428.755, theta1 = 93.393, 差分 = 0.0673\n",
      "347次: theta0 = 428.763, theta1 = 93.395, 差分 = 0.0647\n",
      "348次: theta0 = 428.771, theta1 = 93.397, 差分 = 0.0621\n",
      "349次: theta0 = 428.778, theta1 = 93.398, 差分 = 0.0596\n",
      "350次: theta0 = 428.786, theta1 = 93.400, 差分 = 0.0573\n",
      "351次: theta0 = 428.793, theta1 = 93.402, 差分 = 0.0550\n",
      "352次: theta0 = 428.800, theta1 = 93.403, 差分 = 0.0528\n",
      "353次: theta0 = 428.807, theta1 = 93.405, 差分 = 0.0507\n",
      "354次: theta0 = 428.814, theta1 = 93.406, 差分 = 0.0487\n",
      "355次: theta0 = 428.821, theta1 = 93.408, 差分 = 0.0468\n",
      "356次: theta0 = 428.827, theta1 = 93.409, 差分 = 0.0450\n",
      "357次: theta0 = 428.834, theta1 = 93.410, 差分 = 0.0432\n",
      "358次: theta0 = 428.840, theta1 = 93.412, 差分 = 0.0415\n",
      "359次: theta0 = 428.846, theta1 = 93.413, 差分 = 0.0398\n",
      "360次: theta0 = 428.852, theta1 = 93.414, 差分 = 0.0382\n",
      "361次: theta0 = 428.858, theta1 = 93.416, 差分 = 0.0367\n",
      "362次: theta0 = 428.864, theta1 = 93.417, 差分 = 0.0353\n",
      "363次: theta0 = 428.870, theta1 = 93.418, 差分 = 0.0339\n",
      "364次: theta0 = 428.875, theta1 = 93.419, 差分 = 0.0325\n",
      "365次: theta0 = 428.881, theta1 = 93.421, 差分 = 0.0312\n",
      "366次: theta0 = 428.886, theta1 = 93.422, 差分 = 0.0300\n",
      "367次: theta0 = 428.892, theta1 = 93.423, 差分 = 0.0288\n",
      "368次: theta0 = 428.897, theta1 = 93.424, 差分 = 0.0277\n",
      "369次: theta0 = 428.902, theta1 = 93.425, 差分 = 0.0266\n",
      "370次: theta0 = 428.907, theta1 = 93.426, 差分 = 0.0255\n",
      "371次: theta0 = 428.912, theta1 = 93.427, 差分 = 0.0245\n",
      "372次: theta0 = 428.916, theta1 = 93.428, 差分 = 0.0236\n",
      "373次: theta0 = 428.921, theta1 = 93.429, 差分 = 0.0226\n",
      "374次: theta0 = 428.926, theta1 = 93.430, 差分 = 0.0217\n",
      "375次: theta0 = 428.930, theta1 = 93.431, 差分 = 0.0209\n",
      "376次: theta0 = 428.935, theta1 = 93.432, 差分 = 0.0200\n",
      "377次: theta0 = 428.939, theta1 = 93.433, 差分 = 0.0192\n",
      "378次: theta0 = 428.943, theta1 = 93.434, 差分 = 0.0185\n",
      "379次: theta0 = 428.947, theta1 = 93.435, 差分 = 0.0177\n",
      "380次: theta0 = 428.951, theta1 = 93.436, 差分 = 0.0170\n",
      "381次: theta0 = 428.955, theta1 = 93.437, 差分 = 0.0164\n",
      "382次: theta0 = 428.959, theta1 = 93.437, 差分 = 0.0157\n",
      "383次: theta0 = 428.963, theta1 = 93.438, 差分 = 0.0151\n",
      "384次: theta0 = 428.967, theta1 = 93.439, 差分 = 0.0145\n",
      "385次: theta0 = 428.970, theta1 = 93.440, 差分 = 0.0139\n",
      "386次: theta0 = 428.974, theta1 = 93.441, 差分 = 0.0134\n",
      "387次: theta0 = 428.977, theta1 = 93.441, 差分 = 0.0128\n",
      "388次: theta0 = 428.981, theta1 = 93.442, 差分 = 0.0123\n",
      "389次: theta0 = 428.984, theta1 = 93.443, 差分 = 0.0118\n",
      "390次: theta0 = 428.988, theta1 = 93.444, 差分 = 0.0114\n",
      "391次: theta0 = 428.991, theta1 = 93.444, 差分 = 0.0109\n",
      "392次: theta0 = 428.994, theta1 = 93.445, 差分 = 0.0105\n",
      "393次: theta0 = 428.997, theta1 = 93.446, 差分 = 0.0101\n",
      "394次: theta0 = 429.000, theta1 = 93.446, 差分 = 0.0097\n"
     ]
    }
   ],
   "source": [
    "error = E(train_z, train_y)\n",
    "while diff > 1e-2:\n",
    "    # 將更新結果儲存於臨時變數\n",
    "    tmp0 = theta0 - ETA * np.sum((f(train_z) - train_y))\n",
    "    tmp1 = theta1 - ETA * np.sum((f(train_z) - train_y) * train_z)\n",
    "    theta0 = tmp0\n",
    "    theta1 = tmp1\n",
    "    # 計算與前一項誤差的差分\n",
    "    current_error = E(train_z, train_y)\n",
    "    diff = error - current_error\n",
    "    error = current_error\n",
    "    # 輸出日誌\n",
    "    count += 1\n",
    "    log = '{}次: theta0 = {:.3f}, theta1 = {:.3f}, 差分 = {:.4f}'\n",
    "    print(log.format(count, theta0, theta1, diff))"
   ]
  },
  {
   "cell_type": "markdown",
   "metadata": {},
   "source": [
    "繪製學習資料與f函數"
   ]
  },
  {
   "cell_type": "code",
   "execution_count": 81,
   "metadata": {
    "scrolled": true
   },
   "outputs": [
    {
     "data": {
      "image/png": "[encoded data removed]",
      "text/plain": [
       "<matplotlib.figure.Figure at 0x1177a45c0>"
      ]
     },
     "metadata": {},
     "output_type": "display_data"
    }
   ],
   "source": [
    "x = np.linspace(-3, 3, 100)\n",
    "\n",
    "plt.plot(train_z, train_y, 'o')\n",
    "plt.plot(x, f(x))\n",
    "plt.show()"
   ]
  },
  {
   "cell_type": "markdown",
   "metadata": {},
   "source": [
    "驗證\n",
    "\n",
    "#輸入適切的x值以預測點擊數\n",
    "#但因學習資料已進行標準化，所以預測資料也須經標準化"
   ]
  },
  {
   "cell_type": "code",
   "execution_count": 74,
   "metadata": {},
   "outputs": [
    {
     "data": {
      "text/plain": [
       "370.9671251358767"
      ]
     },
     "execution_count": 74,
     "metadata": {},
     "output_type": "execute_result"
    }
   ],
   "source": [
    "f(standardize(100))"
   ]
  },
  {
   "cell_type": "code",
   "execution_count": 82,
   "metadata": {},
   "outputs": [
    {
     "data": {
      "text/plain": [
       "510.4697800795642"
      ]
     },
     "execution_count": 82,
     "metadata": {},
     "output_type": "execute_result"
    }
   ],
   "source": [
    "f(standardize(200))"
   ]
  },
  {
   "cell_type": "code",
   "execution_count": null,
   "metadata": {},
   "outputs": [],
   "source": []
  },
  {
   "cell_type": "markdown",
   "metadata": {},
   "source": [
    "# 多項式回歸的程式"
   ]
  },
  {
   "cell_type": "markdown",
   "metadata": {},
   "source": [
    "初始化參數"
   ]
  },
  {
   "cell_type": "code",
   "execution_count": 83,
   "metadata": {},
   "outputs": [],
   "source": [
    "theta = np.random.rand(3)"
   ]
  },
  {
   "cell_type": "markdown",
   "metadata": {},
   "source": [
    "建立學習資料的矩陣"
   ]
  },
  {
   "cell_type": "code",
   "execution_count": 90,
   "metadata": {},
   "outputs": [],
   "source": [
    "def to_matrix(x):\n",
    "    return np.vstack([np.ones(x.shape[0]), x, x ** 2]).T"
   ]
  },
  {
   "cell_type": "code",
   "execution_count": 91,
   "metadata": {},
   "outputs": [],
   "source": [
    "X = to_matrix(train_z)"
   ]
  },
  {
   "cell_type": "markdown",
   "metadata": {},
   "source": [
    "預測函數"
   ]
  },
  {
   "cell_type": "code",
   "execution_count": null,
   "metadata": {},
   "outputs": [],
   "source": []
  },
  {
   "cell_type": "code",
   "execution_count": 95,
   "metadata": {},
   "outputs": [],
   "source": [
    "def f(x):\n",
    "    return np.dot(x, theta)"
   ]
  },
  {
   "cell_type": "markdown",
   "metadata": {},
   "source": [
    "誤差的差分"
   ]
  },
  {
   "cell_type": "code",
   "execution_count": 96,
   "metadata": {},
   "outputs": [],
   "source": [
    "diff = 1"
   ]
  },
  {
   "cell_type": "markdown",
   "metadata": {},
   "source": [
    "重複學習"
   ]
  },
  {
   "cell_type": "code",
   "execution_count": 97,
   "metadata": {},
   "outputs": [],
   "source": [
    "error = E(X, train_y)\n",
    "while diff > 1e-2:\n",
    "    # 更新參數\n",
    "    theta = theta - ETA * np.dot(f(X) - train_y, X)\n",
    "    # 計算與前一項誤差的差分\n",
    "    current_error = E(X, train_y)\n",
    "    diff = error - current_error\n",
    "    error = current_error"
   ]
  },
  {
   "cell_type": "markdown",
   "metadata": {},
   "source": [
    "繪製學習資料與函數"
   ]
  },
  {
   "cell_type": "code",
   "execution_count": 98,
   "metadata": {
    "scrolled": true
   },
   "outputs": [
    {
     "data": {
      "image/png": "[encoded data removed]",
      "text/plain": [
       "<matplotlib.figure.Figure at 0x1179862e8>"
      ]
     },
     "metadata": {},
     "output_type": "display_data"
    }
   ],
   "source": [
    "x = np.linspace(-3, 3, 100)\n",
    "\n",
    "plt.plot(train_z, train_y, 'o')\n",
    "plt.plot(x, f(to_matrix(x)))\n",
    "plt.show()"
   ]
  },
  {
   "cell_type": "markdown",
   "metadata": {},
   "source": [
    "均方誤差 MSE"
   ]
  },
  {
   "cell_type": "code",
   "execution_count": 99,
   "metadata": {},
   "outputs": [],
   "source": [
    "def MSE(x, y):\n",
    "    return (1 / x.shape[0]) * np.sum((y-f(x)) ** 2)"
   ]
  },
  {
   "cell_type": "raw",
   "metadata": {},
   "source": [
    "將參數以隨機方式初始化"
   ]
  },
  {
   "cell_type": "code",
   "execution_count": 100,
   "metadata": {},
   "outputs": [],
   "source": [
    "theta = np.random.rand(3)"
   ]
  },
  {
   "cell_type": "markdown",
   "metadata": {},
   "source": [
    "均方誤差的歷史紀錄"
   ]
  },
  {
   "cell_type": "code",
   "execution_count": 103,
   "metadata": {},
   "outputs": [],
   "source": [
    "errors = []"
   ]
  },
  {
   "cell_type": "markdown",
   "metadata": {},
   "source": [
    "誤差的差分"
   ]
  },
  {
   "cell_type": "code",
   "execution_count": 102,
   "metadata": {},
   "outputs": [],
   "source": [
    "diff = 1"
   ]
  },
  {
   "cell_type": "markdown",
   "metadata": {},
   "source": [
    "重複學習"
   ]
  },
  {
   "cell_type": "code",
   "execution_count": 105,
   "metadata": {},
   "outputs": [],
   "source": [
    "errors.append(MSE(X, train_y))\n",
    "while diff > 1e-2:\n",
    "    theta = theta - ETA * np.dot(f(X) - train_y, X)\n",
    "    errors.append(MSE(X, train_y))\n",
    "    diff = errors[-2] - errors[-1]"
   ]
  },
  {
   "cell_type": "markdown",
   "metadata": {},
   "source": [
    "繪製誤差"
   ]
  },
  {
   "cell_type": "code",
   "execution_count": 108,
   "metadata": {},
   "outputs": [
    {
     "data": {
      "image/png": "[encoded data removed]",
      "text/plain": [
       "<matplotlib.figure.Figure at 0x117adbcc0>"
      ]
     },
     "metadata": {},
     "output_type": "display_data"
    }
   ],
   "source": [
    "x = np.arange(len(errors))\n",
    "\n",
    "plt.plot(x, errors)\n",
    "plt.show()\n",
    "\n",
    "#可看出誤差逐漸變小"
   ]
  }
 ],
 "metadata": {
  "kernelspec": {
   "display_name": "Python 3",
   "language": "python",
   "name": "python3"
  },
  "language_info": {
   "codemirror_mode": {
    "name": "ipython",
    "version": 3
   },
   "file_extension": ".py",
   "mimetype": "text/x-python",
   "name": "python",
   "nbconvert_exporter": "python",
   "pygments_lexer": "ipython3",
   "version": "3.6.4"
  }
 },
 "nbformat": 4,
 "nbformat_minor": 2
}
