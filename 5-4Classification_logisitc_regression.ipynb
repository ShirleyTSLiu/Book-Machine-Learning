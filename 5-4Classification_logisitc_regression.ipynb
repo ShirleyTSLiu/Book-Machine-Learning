{
 "cells": [
  {
   "cell_type": "markdown",
   "metadata": {},
   "source": [
    "# 5-4分類（邏輯迴歸）"
   ]
  },
  {
   "cell_type": "markdown",
   "metadata": {},
   "source": [
    "# 5-4-2邏輯迴歸的程式"
   ]
  },
  {
   "cell_type": "code",
   "execution_count": 1,
   "metadata": {},
   "outputs": [],
   "source": [
    "import numpy as np\n",
    "import matplotlib.pyplot as plt"
   ]
  },
  {
   "cell_type": "markdown",
   "metadata": {},
   "source": [
    "讀入學習資料"
   ]
  },
  {
   "cell_type": "code",
   "execution_count": 3,
   "metadata": {},
   "outputs": [],
   "source": [
    "train = np.loadtxt(open('/Users/shiliu/documents/images2.csv'), delimiter=',', skiprows=1)\n",
    "train_x = train[:,0:2]\n",
    "train_y = train[:,2]"
   ]
  },
  {
   "cell_type": "code",
   "execution_count": 4,
   "metadata": {},
   "outputs": [
    {
     "data": {
      "text/plain": [
       "array([[153., 432.,   0.],\n",
       "       [220., 262.,   0.],\n",
       "       [118., 214.,   0.],\n",
       "       [474., 384.,   1.],\n",
       "       [485., 411.,   1.],\n",
       "       [233., 430.,   0.],\n",
       "       [396., 321.,   1.],\n",
       "       [484., 349.,   1.],\n",
       "       [429., 259.,   1.],\n",
       "       [286., 220.,   1.],\n",
       "       [399., 433.,   0.],\n",
       "       [403., 300.,   1.],\n",
       "       [252.,  34.,   1.],\n",
       "       [497., 372.,   1.],\n",
       "       [379., 416.,   0.],\n",
       "       [ 76., 163.,   0.],\n",
       "       [263., 112.,   1.],\n",
       "       [ 26., 193.,   0.],\n",
       "       [ 61., 473.,   0.],\n",
       "       [420., 253.,   1.]])"
      ]
     },
     "execution_count": 4,
     "metadata": {},
     "output_type": "execute_result"
    }
   ],
   "source": [
    "train"
   ]
  },
  {
   "cell_type": "code",
   "execution_count": 5,
   "metadata": {},
   "outputs": [
    {
     "data": {
      "text/plain": [
       "array([[153., 432.],\n",
       "       [220., 262.],\n",
       "       [118., 214.],\n",
       "       [474., 384.],\n",
       "       [485., 411.],\n",
       "       [233., 430.],\n",
       "       [396., 321.],\n",
       "       [484., 349.],\n",
       "       [429., 259.],\n",
       "       [286., 220.],\n",
       "       [399., 433.],\n",
       "       [403., 300.],\n",
       "       [252.,  34.],\n",
       "       [497., 372.],\n",
       "       [379., 416.],\n",
       "       [ 76., 163.],\n",
       "       [263., 112.],\n",
       "       [ 26., 193.],\n",
       "       [ 61., 473.],\n",
       "       [420., 253.]])"
      ]
     },
     "execution_count": 5,
     "metadata": {},
     "output_type": "execute_result"
    }
   ],
   "source": [
    "train_x"
   ]
  },
  {
   "cell_type": "code",
   "execution_count": 6,
   "metadata": {},
   "outputs": [
    {
     "data": {
      "text/plain": [
       "array([0., 0., 0., 1., 1., 0., 1., 1., 1., 1., 0., 1., 1., 1., 0., 0., 1.,\n",
       "       0., 0., 1.])"
      ]
     },
     "execution_count": 6,
     "metadata": {},
     "output_type": "execute_result"
    }
   ],
   "source": [
    "train_y"
   ]
  },
  {
   "cell_type": "markdown",
   "metadata": {},
   "source": [
    "初始化參數 "
   ]
  },
  {
   "cell_type": "code",
   "execution_count": 8,
   "metadata": {},
   "outputs": [],
   "source": [
    "theta = np.random.rand(3)"
   ]
  },
  {
   "cell_type": "markdown",
   "metadata": {},
   "source": [
    "##### "
   ]
  },
  {
   "cell_type": "markdown",
   "metadata": {},
   "source": [
    "標準化"
   ]
  },
  {
   "cell_type": "code",
   "execution_count": 9,
   "metadata": {},
   "outputs": [],
   "source": [
    "mu = train_x.mean(axis=0)\n",
    "sigma = train_x.std(axis=0)\n",
    "def standardize(x):\n",
    "    return ( x - mu ) /sigma\n",
    "\n",
    "train_z = standardize(train_x)"
   ]
  },
  {
   "cell_type": "raw",
   "metadata": {},
   "source": [
    "添加 x0"
   ]
  },
  {
   "cell_type": "code",
   "execution_count": 10,
   "metadata": {},
   "outputs": [],
   "source": [
    "def to_matrix(x):\n",
    "    x0 = np.ones([x.shape[0], 1])\n",
    "    return np.hstack([x0, x])\n",
    "\n",
    "X = to_matrix(train_z)"
   ]
  },
  {
   "cell_type": "markdown",
   "metadata": {},
   "source": [
    "繪製經標準化後的學習資料"
   ]
  },
  {
   "cell_type": "code",
   "execution_count": 11,
   "metadata": {},
   "outputs": [
    {
     "data": {
      "image/png": "[encoded data removed]",
      "text/plain": [
       "<matplotlib.figure.Figure at 0x1064b0240>"
      ]
     },
     "metadata": {},
     "output_type": "display_data"
    }
   ],
   "source": [
    "plt.plot(train_z[train_y == 1, 0], train_z[train_y == 1, 1], 'o')\n",
    "plt.plot(train_z[train_y == 0, 0], train_z[train_y == 0, 1], 'x')\n",
    "plt.show()"
   ]
  },
  {
   "cell_type": "markdown",
   "metadata": {},
   "source": [
    "S型函數"
   ]
  },
  {
   "cell_type": "code",
   "execution_count": 12,
   "metadata": {},
   "outputs": [],
   "source": [
    "def f(x):\n",
    "    return 1 / (1+ np.exp(-np.dot(x, theta)))"
   ]
  },
  {
   "cell_type": "markdown",
   "metadata": {},
   "source": [
    "# 5-4-2-參數更新式"
   ]
  },
  {
   "cell_type": "markdown",
   "metadata": {},
   "source": [
    "學習率"
   ]
  },
  {
   "cell_type": "code",
   "execution_count": 13,
   "metadata": {},
   "outputs": [],
   "source": [
    "ETA = 1e-3"
   ]
  },
  {
   "cell_type": "markdown",
   "metadata": {},
   "source": [
    "重複次數 "
   ]
  },
  {
   "cell_type": "code",
   "execution_count": 14,
   "metadata": {},
   "outputs": [],
   "source": [
    "epoch = 5000"
   ]
  },
  {
   "cell_type": "markdown",
   "metadata": {},
   "source": [
    "重複學習"
   ]
  },
  {
   "cell_type": "code",
   "execution_count": 15,
   "metadata": {},
   "outputs": [],
   "source": [
    "for _ in range(epoch):\n",
    "    theta = theta - ETA * np.dot(f(X) - train_y, X)"
   ]
  },
  {
   "cell_type": "code",
   "execution_count": 16,
   "metadata": {},
   "outputs": [
    {
     "data": {
      "image/png": "[encoded data removed]",
      "text/plain": [
       "<matplotlib.figure.Figure at 0x10ae549e8>"
      ]
     },
     "metadata": {},
     "output_type": "display_data"
    }
   ],
   "source": [
    "x0 = np.linspace(-2, 2, 100)\n",
    "\n",
    "plt.plot(train_z[train_y == 1, 0], train_z[train_y == 1, 1], 'o')\n",
    "plt.plot(train_z[train_y == 0, 0], train_z[train_y == 0, 1], 'x')\n",
    "plt.plot(x0, -(theta[0] + theta[1] * x0) / theta[2], linestyle='dashed')\n",
    "plt.show()"
   ]
  },
  {
   "cell_type": "markdown",
   "metadata": {},
   "source": [
    "# 5-4-3驗證"
   ]
  },
  {
   "cell_type": "markdown",
   "metadata": {},
   "source": [
    "驗證方法一：輸出值為 x 屬於橫長的機率"
   ]
  },
  {
   "cell_type": "code",
   "execution_count": 17,
   "metadata": {},
   "outputs": [
    {
     "data": {
      "text/plain": [
       "array([0.91814386, 0.02924911])"
      ]
     },
     "execution_count": 17,
     "metadata": {},
     "output_type": "execute_result"
    }
   ],
   "source": [
    "f(to_matrix(standardize([\n",
    "    [200,100], #200x100的橫長圖像\n",
    "    [100,200], #100x200的縱長圖像\n",
    "])))"
   ]
  },
  {
   "cell_type": "markdown",
   "metadata": {},
   "source": [
    "驗證方法二：輸出值 1 為分類至橫長 , 0 為分類至縱長"
   ]
  },
  {
   "cell_type": "code",
   "execution_count": 18,
   "metadata": {},
   "outputs": [],
   "source": [
    "def classify(x):\n",
    "    return (f(x) >= 0.5).astype(np.int)"
   ]
  },
  {
   "cell_type": "code",
   "execution_count": 19,
   "metadata": {},
   "outputs": [
    {
     "data": {
      "text/plain": [
       "array([1, 0])"
      ]
     },
     "execution_count": 19,
     "metadata": {},
     "output_type": "execute_result"
    }
   ],
   "source": [
    "classify(to_matrix(standardize([\n",
    "    [200,100], #200x100的橫長圖像\n",
    "    [100,200], #100x200的縱長圖像\n",
    "])))"
   ]
  }
 ],
 "metadata": {
  "kernelspec": {
   "display_name": "Python 3",
   "language": "python",
   "name": "python3"
  },
  "language_info": {
   "codemirror_mode": {
    "name": "ipython",
    "version": 3
   },
   "file_extension": ".py",
   "mimetype": "text/x-python",
   "name": "python",
   "nbconvert_exporter": "python",
   "pygments_lexer": "ipython3",
   "version": "3.6.4"
  }
 },
 "nbformat": 4,
 "nbformat_minor": 2
}
